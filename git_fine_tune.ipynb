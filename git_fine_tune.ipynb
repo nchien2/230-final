{
 "cells": [
  {
   "cell_type": "code",
   "execution_count": null,
   "id": "cdf982f3",
   "metadata": {},
   "outputs": [],
   "source": [
    "from transformers import AutoProcessor, AutoModelForCausalLM\n",
    "import torch\n",
    "\n",
    "from huggingface_hub import hf_hub_download\n",
    "from PIL import Image"
   ]
  },
  {
   "cell_type": "markdown",
   "id": "013b99de",
   "metadata": {},
   "source": [
    "#### Load dataset"
   ]
  },
  {
   "cell_type": "code",
   "execution_count": null,
   "id": "474bbf57",
   "metadata": {},
   "outputs": [],
   "source": [
    "import boto3\n",
    "import config\n",
    "from dataloader import SNV3Dataset, collate_fn\n",
    "from torch.utils.data import Dataset, DataLoader\n",
    "import time\n",
    "\n",
    "session = boto3.Session(\n",
    "    aws_access_key_id=config.aws_access_key_id,\n",
    "    aws_secret_access_key=config.aws_secret_access_key,\n",
    ")\n",
    "s3 = session.resource('s3')\n",
    "train_ds = SNV3Dataset(split='train',\n",
    "                  bucket='soccernet-230',\n",
    "                  vocab_path='vocab_files/train_vocab.pyi',\n",
    "                  num_clips=2, window_size=3,\n",
    "                  include_vid=True,\n",
    "                     local_video_path=\"/raid/videos\")\n",
    "train_dataloader = DataLoader(train_ds, collate_fn=collate_fn, batch_size=2, num_workers=10)"
   ]
  },
  {
   "cell_type": "code",
   "execution_count": null,
   "id": "8821d08d",
   "metadata": {},
   "outputs": [],
   "source": [
    "batch = next(iter(train_dataloader))\n",
    "for k,v in batch.items():\n",
    "    print(k,v.shape)"
   ]
  },
  {
   "cell_type": "code",
   "execution_count": null,
   "id": "72844a1f",
   "metadata": {},
   "outputs": [],
   "source": [
    "#ggg"
   ]
  },
  {
   "cell_type": "markdown",
   "id": "6218dcd3",
   "metadata": {},
   "source": [
    "#### Define Model"
   ]
  },
  {
   "cell_type": "code",
   "execution_count": null,
   "id": "497c71dd",
   "metadata": {},
   "outputs": [],
   "source": [
    "from transformers import AutoProcessor, AutoModelForCausalLM\n",
    "import torch\n",
    "\n",
    "from huggingface_hub import hf_hub_download\n",
    "from PIL import Image\n",
    "\n",
    "# video captioning\n",
    "processor = AutoProcessor.from_pretrained(\"microsoft/git-base-vatex\")\n",
    "model = AutoModelForCausalLM.from_pretrained(\"microsoft/git-base-vatex\")"
   ]
  },
  {
   "cell_type": "markdown",
   "id": "a67c61f7",
   "metadata": {},
   "source": [
    "#### Dummy forward pass"
   ]
  },
  {
   "cell_type": "code",
   "execution_count": null,
   "id": "8b03e66e",
   "metadata": {},
   "outputs": [],
   "source": [
    "# for x in batch['caption']:\n",
    "#     print(len(x))\n",
    "#     print(train_ds.text_processor.detokenize(x.tolist()))"
   ]
  },
  {
   "cell_type": "code",
   "execution_count": null,
   "id": "39f113fa",
   "metadata": {},
   "outputs": [],
   "source": [
    "device = \"cuda\" if torch.cuda.is_available() else \"cpu\"\n",
    "model.to(device)"
   ]
  },
  {
   "cell_type": "code",
   "execution_count": null,
   "id": "d7f57776",
   "metadata": {},
   "outputs": [],
   "source": [
    "frames = batch['clip'].permute(0, 1, 4, 2, 3).float()\n",
    "input_text = [train_ds.text_processor.detokenize(x.tolist()) for x in batch['caption']]\n",
    "#input_ids, mask, pixel_values = processor(text=input_text, return_tensors=\"pt\", padding=True).to(device)\n",
    "#print(pixel_values.shape)\n",
    "#generated_ids = model.generate(pixel_values=pixel_values, max_length=50)\n",
    "#frames = processor(images=frames, return_tensors=\"pt\").pixel_values\n",
    "\n",
    "input_ids = processor(text=input_text, add_special_tokens=False, padding='max_length').input_ids\n",
    "mask = processor(text=input_text, add_special_tokens=False, padding='max_length').attention_mask\n",
    "#print(input_ids)\n",
    "outputs = model(input_ids=torch.tensor(input_ids).to(device),\n",
    "                attention_mask=torch.tensor(mask).to(device),\n",
    "                pixel_values=frames.to(device),\n",
    "                labels=torch.tensor(input_ids).to(device))\n",
    "outputs.loss"
   ]
  },
  {
   "cell_type": "code",
   "execution_count": null,
   "id": "0c92d37f",
   "metadata": {},
   "outputs": [],
   "source": []
  },
  {
   "cell_type": "markdown",
   "id": "a4ec5b4d",
   "metadata": {},
   "source": [
    "#### Train the model"
   ]
  },
  {
   "cell_type": "code",
   "execution_count": null,
   "id": "ed9a06fd",
   "metadata": {},
   "outputs": [],
   "source": [
    "\n",
    "\n",
    "# import torch\n",
    "\n",
    "# optimizer = torch.optim.AdamW(model.parameters(), lr=5e-5)\n",
    "\n",
    "# device = \"cuda\" if torch.cuda.is_available() else \"cpu\"\n",
    "# model.to(device)\n",
    "\n",
    "# model.train()\n",
    "\n",
    "# for epoch in range(50):\n",
    "#   print(\"Epoch:\", epoch)\n",
    "#   for idx, batch in enumerate(train_dataloader):\n",
    "        \n",
    "        \n",
    "#     frames = batch['clip'].permute(0, 1, 4, 2, 3).float()\n",
    "#     input_text = [train_ds.text_processor.detokenize(x.tolist()) for x in batch['caption']]\n",
    "#     #input_ids, mask, pixel_values = processor(text=input_text, return_tensors=\"pt\", padding=True).to(device)\n",
    "#     #print(pixel_values.shape)\n",
    "#     #generated_ids = model.generate(pixel_values=pixel_values, max_length=50)\n",
    "#     #frames = processor(images=frames, return_tensors=\"pt\").pixel_values\n",
    "\n",
    "#     input_ids = processor(text=input_text, add_special_tokens=False, padding='max_length').input_ids\n",
    "#     mask = processor(text=input_text, add_special_tokens=False, padding='max_length').attention_mask\n",
    "#     #print(input_ids)\n",
    "#     outputs = model(input_ids=torch.tensor(input_ids).to(device),\n",
    "#                     #attention_mask=torch.tensor(mask).to(device),\n",
    "#                     pixel_values=frames.to(device),\n",
    "#                     labels=torch.tensor(input_ids).to(device))\n",
    "# #     input_ids = batch.pop(\"input_ids\").to(device)\n",
    "# #     pixel_values = batch.pop(\"pixel_values\").to(device)\n",
    "\n",
    "# #     outputs = model(input_ids=input_ids,\n",
    "# #                     pixel_values=pixel_values,\n",
    "# #                     labels=input_ids)\n",
    "    \n",
    "#     loss = outputs.loss\n",
    "\n",
    "#     print(\"Loss:\", loss.item())\n",
    "\n",
    "#     loss.backward()\n",
    "\n",
    "#     optimizer.step()\n",
    "#     optimizer.zero_grad()"
   ]
  },
  {
   "cell_type": "code",
   "execution_count": null,
   "id": "03c8c49a",
   "metadata": {},
   "outputs": [],
   "source": []
  }
 ],
 "metadata": {
  "kernelspec": {
   "display_name": "Python 3 (ipykernel)",
   "language": "python",
   "name": "python3"
  },
  "language_info": {
   "codemirror_mode": {
    "name": "ipython",
    "version": 3
   },
   "file_extension": ".py",
   "mimetype": "text/x-python",
   "name": "python",
   "nbconvert_exporter": "python",
   "pygments_lexer": "ipython3",
   "version": "3.8.10"
  }
 },
 "nbformat": 4,
 "nbformat_minor": 5
}
